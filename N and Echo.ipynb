{
 "cells": [
  {
   "cell_type": "code",
   "execution_count": 1,
   "id": "62e5e6c7-cbc3-4fff-bbcc-9d8793b5b11e",
   "metadata": {},
   "outputs": [],
   "source": [
    "import os"
   ]
  },
  {
   "cell_type": "code",
   "execution_count": 2,
   "id": "b727700b-0d9d-44b2-9dc1-17b901203c4e",
   "metadata": {},
   "outputs": [],
   "source": [
    "import openai"
   ]
  },
  {
   "cell_type": "code",
   "execution_count": 3,
   "id": "bac0c4f4-227b-4194-83ff-f186d0a5b24f",
   "metadata": {},
   "outputs": [],
   "source": [
    "from dotenv import dotenv_values"
   ]
  },
  {
   "cell_type": "code",
   "execution_count": 4,
   "id": "6d392a33-26a5-48ce-b6ac-6693b4114def",
   "metadata": {},
   "outputs": [],
   "source": [
    "config = dotenv_values(\".env\")"
   ]
  },
  {
   "cell_type": "code",
   "execution_count": 5,
   "id": "66fd8cc6-bc5e-489e-9213-084c8af36362",
   "metadata": {},
   "outputs": [],
   "source": [
    "openai.api_key = config[\"OPENAI_API_KEY\"]"
   ]
  },
  {
   "cell_type": "markdown",
   "id": "bec29709-372a-4ea6-8204-a1aa63e926a1",
   "metadata": {},
   "source": [
    "we can specify number of responses with n keyword, and get a list of jokes in the array of choices"
   ]
  },
  {
   "cell_type": "code",
   "execution_count": 13,
   "id": "8928ab8b-d5b8-43c3-95b8-6d93d98d3602",
   "metadata": {
    "scrolled": true
   },
   "outputs": [
    {
     "data": {
      "text/plain": [
       "<OpenAIObject text_completion id=cmpl-8OzUi8Usc4aK4Qi1C8ORH7uP3HXTU at 0x1a8b11fb6b0> JSON: {\n",
       "  \"warning\": \"This model version is deprecated. Migrate before January 4, 2024 to avoid disruption of service. Learn more https://platform.openai.com/docs/deprecations\",\n",
       "  \"id\": \"cmpl-8OzUi8Usc4aK4Qi1C8ORH7uP3HXTU\",\n",
       "  \"object\": \"text_completion\",\n",
       "  \"created\": 1700966948,\n",
       "  \"model\": \"text-davinci-003\",\n",
       "  \"choices\": [\n",
       "    {\n",
       "      \"text\": \"\\n\\nQ: Why did the chicken cross the playground? \\nA: To get to the other slide!\",\n",
       "      \"index\": 0,\n",
       "      \"logprobs\": null,\n",
       "      \"finish_reason\": \"stop\"\n",
       "    },\n",
       "    {\n",
       "      \"text\": \"\\n\\nQ: Why did the chicken go to the s\\u00e9ance? \\nA: To get to the other side.\",\n",
       "      \"index\": 1,\n",
       "      \"logprobs\": null,\n",
       "      \"finish_reason\": \"stop\"\n",
       "    },\n",
       "    {\n",
       "      \"text\": \"\\n\\nQ: What did the cloud say to the rainbow?\\nA: I show up when you least expect it!\",\n",
       "      \"index\": 2,\n",
       "      \"logprobs\": null,\n",
       "      \"finish_reason\": \"stop\"\n",
       "    }\n",
       "  ],\n",
       "  \"usage\": {\n",
       "    \"prompt_tokens\": 6,\n",
       "    \"completion_tokens\": 74,\n",
       "    \"total_tokens\": 80\n",
       "  }\n",
       "}"
      ]
     },
     "execution_count": 13,
     "metadata": {},
     "output_type": "execute_result"
    }
   ],
   "source": [
    "openai.Completion.create(\n",
    "    model = \"text-davinci-003\",\n",
    "    prompt=\"Tell me a joke about something\",\n",
    "    max_tokens=100,\n",
    "    n=3 \n",
    ")"
   ]
  },
  {
   "cell_type": "markdown",
   "id": "bacdf664-a368-46a6-a4d1-0a10e8e5d0dd",
   "metadata": {},
   "source": [
    "of course we could use that in the prompt like this, but then we would get one large text which we had to split it up"
   ]
  },
  {
   "cell_type": "code",
   "execution_count": 18,
   "id": "5f6454b4-f1f8-4f62-8e00-55ff80539be4",
   "metadata": {},
   "outputs": [
    {
     "data": {
      "text/plain": [
       "<OpenAIObject text_completion id=cmpl-8OzXpQkpd7IOv5qqFnFni64FOQhvn at 0x1a8b1b03110> JSON: {\n",
       "  \"warning\": \"This model version is deprecated. Migrate before January 4, 2024 to avoid disruption of service. Learn more https://platform.openai.com/docs/deprecations\",\n",
       "  \"id\": \"cmpl-8OzXpQkpd7IOv5qqFnFni64FOQhvn\",\n",
       "  \"object\": \"text_completion\",\n",
       "  \"created\": 1700967141,\n",
       "  \"model\": \"text-davinci-003\",\n",
       "  \"choices\": [\n",
       "    {\n",
       "      \"text\": \"\\n\\n1. Why did the zombie go to the bank? To get a re-possession!\\n\\n2. What did the snowman say to the vampire? \\\"You better chill out!\\\"\\n\\n3. What did the little ghost say to his family when he died? \\\"Boo hoo!\\\"\",\n",
       "      \"index\": 0,\n",
       "      \"logprobs\": null,\n",
       "      \"finish_reason\": \"stop\"\n",
       "    }\n",
       "  ],\n",
       "  \"usage\": {\n",
       "    \"prompt_tokens\": 6,\n",
       "    \"completion_tokens\": 63,\n",
       "    \"total_tokens\": 69\n",
       "  }\n",
       "}"
      ]
     },
     "execution_count": 18,
     "metadata": {},
     "output_type": "execute_result"
    }
   ],
   "source": [
    "openai.Completion.create(\n",
    "    model = \"text-davinci-003\",\n",
    "    prompt=\"Give me three jokes about death\",\n",
    "    max_tokens=555,\n",
    ")"
   ]
  },
  {
   "cell_type": "markdown",
   "id": "1a7925cb-6a50-46b0-8ae8-abbf66fd3e04",
   "metadata": {},
   "source": [
    "Using echo outputs also the question in the response"
   ]
  },
  {
   "cell_type": "code",
   "execution_count": 27,
   "id": "6822b170-319f-4ef1-90ea-e5d77c7865d6",
   "metadata": {},
   "outputs": [
    {
     "data": {
      "text/plain": [
       "<OpenAIObject text_completion id=cmpl-8OzgdApyTinLNrh2H9Qv7i0EBlBgh at 0x1a8b1b03390> JSON: {\n",
       "  \"warning\": \"This model version is deprecated. Migrate before January 4, 2024 to avoid disruption of service. Learn more https://platform.openai.com/docs/deprecations\",\n",
       "  \"id\": \"cmpl-8OzgdApyTinLNrh2H9Qv7i0EBlBgh\",\n",
       "  \"object\": \"text_completion\",\n",
       "  \"created\": 1700967687,\n",
       "  \"model\": \"text-davinci-003\",\n",
       "  \"choices\": [\n",
       "    {\n",
       "      \"text\": \"Q: Give me five countries on the Balkan and the population nubmer by the number of people descending \\n\\n1. Romania - 19,942,642\\n2. Serbia - 7,041,754\\n3. Bulgaria - 7,034,755\\n4. Bosnia and Herzegovina - 3,307,791\\n5. North Macedonia - 2,083,374\",\n",
       "      \"index\": 0,\n",
       "      \"logprobs\": null,\n",
       "      \"finish_reason\": \"stop\"\n",
       "    }\n",
       "  ],\n",
       "  \"usage\": {\n",
       "    \"prompt_tokens\": 23,\n",
       "    \"completion_tokens\": 59,\n",
       "    \"total_tokens\": 82\n",
       "  }\n",
       "}"
      ]
     },
     "execution_count": 27,
     "metadata": {},
     "output_type": "execute_result"
    }
   ],
   "source": [
    "openai.Completion.create(\n",
    "    model = \"text-davinci-003\",\n",
    "    prompt=\"Q: Give me five countries on the Balkan and the population number by the number of people descending \",\n",
    "    max_tokens=555,\n",
    "    echo=True\n",
    ")"
   ]
  },
  {
   "cell_type": "code",
   "execution_count": null,
   "id": "8bf898cf-3388-4712-ae28-207db54858f0",
   "metadata": {},
   "outputs": [],
   "source": []
  }
 ],
 "metadata": {
  "kernelspec": {
   "display_name": "Python 3 (ipykernel)",
   "language": "python",
   "name": "python3"
  },
  "language_info": {
   "codemirror_mode": {
    "name": "ipython",
    "version": 3
   },
   "file_extension": ".py",
   "mimetype": "text/x-python",
   "name": "python",
   "nbconvert_exporter": "python",
   "pygments_lexer": "ipython3",
   "version": "3.12.0"
  }
 },
 "nbformat": 4,
 "nbformat_minor": 5
}
