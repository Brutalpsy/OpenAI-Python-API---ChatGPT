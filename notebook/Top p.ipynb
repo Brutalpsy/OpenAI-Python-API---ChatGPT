{
 "cells": [
  {
   "cell_type": "code",
   "execution_count": 1,
   "id": "62e5e6c7-cbc3-4fff-bbcc-9d8793b5b11e",
   "metadata": {},
   "outputs": [],
   "source": [
    "import os"
   ]
  },
  {
   "cell_type": "code",
   "execution_count": 2,
   "id": "b727700b-0d9d-44b2-9dc1-17b901203c4e",
   "metadata": {},
   "outputs": [],
   "source": [
    "import openai"
   ]
  },
  {
   "cell_type": "code",
   "execution_count": 3,
   "id": "cfce2bf5-9a45-4afb-9f73-6f25fc3486ca",
   "metadata": {},
   "outputs": [],
   "source": [
    "import json"
   ]
  },
  {
   "cell_type": "code",
   "execution_count": 4,
   "id": "bac0c4f4-227b-4194-83ff-f186d0a5b24f",
   "metadata": {},
   "outputs": [],
   "source": [
    "from dotenv import dotenv_values"
   ]
  },
  {
   "cell_type": "code",
   "execution_count": 5,
   "id": "6d392a33-26a5-48ce-b6ac-6693b4114def",
   "metadata": {},
   "outputs": [],
   "source": [
    "config = dotenv_values(\".env\")"
   ]
  },
  {
   "cell_type": "code",
   "execution_count": 6,
   "id": "66fd8cc6-bc5e-489e-9213-084c8af36362",
   "metadata": {},
   "outputs": [],
   "source": [
    "openai.api_key = config[\"OPENAI_API_KEY\"]"
   ]
  },
  {
   "cell_type": "code",
   "execution_count": 13,
   "id": "b94d3e9c-0c62-44ef-bbac-67c1d9ae7b28",
   "metadata": {},
   "outputs": [],
   "source": [
    "import textwrap"
   ]
  },
  {
   "cell_type": "code",
   "execution_count": 8,
   "id": "3f83642c-ca85-4aef-90e3-a7328e302648",
   "metadata": {},
   "outputs": [],
   "source": [
    "def nice_print(dictionary):\n",
    "    for key, value in dictionary.items():\n",
    "        wrapped_text = \"\\n\".join(textwrap.wrap(value,width=120))\n",
    "        print(f\"{key}:\")\n",
    "        print(wrapped_text)\n",
    "        print(\"=\" * 120)"
   ]
  },
  {
   "attachments": {},
   "cell_type": "markdown",
   "id": "4f9c25cd-8b49-432e-a963-c22b45923419",
   "metadata": {},
   "source": [
    "Dictates the candidate words whose cumulative probability is greater to occur, higher number gives a bigger opportunity to change. \n",
    "You should use either top p or temperature based on the documentation"
   ]
  },
  {
   "cell_type": "code",
   "execution_count": 14,
   "id": "2bd72912-61b8-4889-bd70-bb35b0f5c8df",
   "metadata": {},
   "outputs": [
    {
     "name": "stdout",
     "output_type": "stream",
     "text": [
      "Top P 1:\n",
      "My favorite food is tacos. Tacos are delicious and versatile. You can make them with just about any type of meat, fish,\n",
      "or vegetable, and they come in a variety of flavors and textures. Whether it’s traditional American-style tacos with\n",
      "ground beef, hard shell tacos with fried fish, or soft tacos with shredded chicken — tacos are a delicious crowd\n",
      "pleaser. Not to\n",
      "========================================================================================================================\n",
      "Top P 0.75:\n",
      "My favorite food is pizza. I love the way it tastes and the variety of toppings that you can choose from. I especially\n",
      "love making my own pizza at home with my own special ingredients. There's nothing better than a fresh, hot, homemade\n",
      "pizza!\n",
      "========================================================================================================================\n",
      "Top P 0.5:\n",
      "My favorite food is pizza. I love the combination of cheese, sauce, and crust. I also love the variety of toppings that\n",
      "can be added to customize the pizza. Pizza is a great meal for any occasion, whether it's a casual gathering with\n",
      "friends or a family dinner.\n",
      "========================================================================================================================\n",
      "Top P 0.25:\n",
      "My favorite food is pizza. I love the combination of the crunchy crust, the savory sauce, and the melty cheese. I also\n",
      "like to add a variety of toppings, like pepperoni, mushrooms, and olives. Pizza is a great meal for any occasion,\n",
      "whether it's a casual night in or a special celebration.\n",
      "========================================================================================================================\n",
      "Top P 0:\n",
      "My favorite food is pizza. I love the combination of the doughy crust, the tangy tomato sauce, and the melty cheese. I\n",
      "also like to add different toppings like pepperoni, mushrooms, and olives. Pizza is a great meal for any occasion,\n",
      "whether it's a casual night in or a special celebration.\n",
      "========================================================================================================================\n"
     ]
    }
   ],
   "source": [
    "nice_print(\n",
    "    {\n",
    "        f\"Top P {top_p}\": openai.Completion.create(model=\"text-davinci-003\",prompt=\"\"\" My favorite food is\"\"\".strip(), max_tokens=75, echo=True,top_p=top_p)\n",
    "        .choices[0][\"text\"]\n",
    "        .strip()\n",
    "        for top_p in [1,0.75,0.5,0.25,0]\n",
    "    })"
   ]
  },
  {
   "cell_type": "code",
   "execution_count": null,
   "id": "ff3d7b3b-6206-4800-b186-4a9797b88875",
   "metadata": {},
   "outputs": [],
   "source": []
  }
 ],
 "metadata": {
  "kernelspec": {
   "display_name": "Python 3 (ipykernel)",
   "language": "python",
   "name": "python3"
  },
  "language_info": {
   "codemirror_mode": {
    "name": "ipython",
    "version": 3
   },
   "file_extension": ".py",
   "mimetype": "text/x-python",
   "name": "python",
   "nbconvert_exporter": "python",
   "pygments_lexer": "ipython3",
   "version": "3.12.0"
  }
 },
 "nbformat": 4,
 "nbformat_minor": 5
}
