{
 "cells": [
  {
   "cell_type": "code",
   "execution_count": 1,
   "id": "39d7ac80",
   "metadata": {},
   "outputs": [],
   "source": [
    "import openai"
   ]
  },
  {
   "cell_type": "code",
   "execution_count": 2,
   "id": "96de38cc",
   "metadata": {},
   "outputs": [],
   "source": [
    "from dotenv import dotenv_values"
   ]
  },
  {
   "cell_type": "code",
   "execution_count": 3,
   "id": "3b630436",
   "metadata": {},
   "outputs": [],
   "source": [
    "config = dotenv_values(\".env\")"
   ]
  },
  {
   "cell_type": "code",
   "execution_count": 4,
   "id": "b3cb65c7",
   "metadata": {},
   "outputs": [],
   "source": [
    "openai.api_key = config[\"OPENAI_API_KEY\"]"
   ]
  },
  {
   "cell_type": "markdown",
   "id": "61909d45-3b15-4bcf-abdc-616e3902a069",
   "metadata": {},
   "source": [
    "Text appear in a form of stream instead of going it all at once"
   ]
  },
  {
   "cell_type": "code",
   "execution_count": 7,
   "id": "ec3e0d35",
   "metadata": {},
   "outputs": [
    {
     "name": "stdout",
     "output_type": "stream",
     "text": [
      "\n",
      "\n",
      "Foggy morning commutes, so long and drawn out,\n",
      "Where an early bird's courage must go about.\n",
      "Through the rice fields and the misty ravines,\n",
      "Where vapors swirl and hide the pavement.\n",
      "\n",
      "The journey can seem so long and mundane,\n",
      "As headlights cut through the syrupy scene. \n",
      "The clock ticks time, and time ticks away,\n",
      "Passing by the fields and old farms so grey.\n",
      "\n",
      "Thoughts drift away as miles are gained,\n",
      "Passing sights of patchwork terrain.\n",
      "Rows of trees, mountains, and rolling hills,\n",
      "Memories form amidst the chill.\n",
      "\n",
      "Through challenges and struggles, there's beauty in this cycle,\n",
      "Of foggy morning commutes, that creates a timeless ripple."
     ]
    }
   ],
   "source": [
    "for data in openai.Completion.create(\n",
    "    model=\"text-davinci-003\",\n",
    "    prompt=\"write me a poem about foggy morning commutes\",\n",
    "    max_tokens=300,\n",
    "    stream=True\n",
    "):\n",
    "    print(data.choices[0].text, end=\"\", flush=True)"
   ]
  },
  {
   "cell_type": "code",
   "execution_count": null,
   "id": "5f02e23b-ffa7-4c89-b6ae-70b1b57b6c01",
   "metadata": {},
   "outputs": [],
   "source": []
  }
 ],
 "metadata": {
  "kernelspec": {
   "display_name": "Python 3 (ipykernel)",
   "language": "python",
   "name": "python3"
  },
  "language_info": {
   "codemirror_mode": {
    "name": "ipython",
    "version": 3
   },
   "file_extension": ".py",
   "mimetype": "text/x-python",
   "name": "python",
   "nbconvert_exporter": "python",
   "pygments_lexer": "ipython3",
   "version": "3.12.0"
  }
 },
 "nbformat": 4,
 "nbformat_minor": 5
}
