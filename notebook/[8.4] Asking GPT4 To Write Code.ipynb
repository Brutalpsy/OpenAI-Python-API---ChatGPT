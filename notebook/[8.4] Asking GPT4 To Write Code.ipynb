{
 "cells": [
  {
   "cell_type": "code",
   "execution_count": 1,
   "id": "39d7ac80",
   "metadata": {},
   "outputs": [],
   "source": [
    "import openai"
   ]
  },
  {
   "cell_type": "code",
   "execution_count": 2,
   "id": "96de38cc",
   "metadata": {},
   "outputs": [],
   "source": [
    "from dotenv import dotenv_values"
   ]
  },
  {
   "cell_type": "code",
   "execution_count": 3,
   "id": "3b630436",
   "metadata": {},
   "outputs": [],
   "source": [
    "config = dotenv_values(\".env\")"
   ]
  },
  {
   "cell_type": "code",
   "execution_count": 4,
   "id": "b3cb65c7",
   "metadata": {},
   "outputs": [],
   "source": [
    "openai.api_key = config[\"OPENAI_API_KEY\"]"
   ]
  },
  {
   "cell_type": "markdown",
   "id": "39d5e151",
   "metadata": {},
   "source": [
    "## Asking GPT-4 To Write Code"
   ]
  },
  {
   "cell_type": "code",
   "execution_count": 5,
   "id": "bb7ffb05",
   "metadata": {},
   "outputs": [],
   "source": [
    "messages = [\n",
    "    {\"role\": \"user\", \"content\": f\"Write a Python function that accepts an RGB color in the format 'rgb(85,145,0)' and returns the corresponding HSL color in the format 'hsl(85 100% 28%)'\"}\n",
    "]"
   ]
  },
  {
   "cell_type": "code",
   "execution_count": 6,
   "id": "9e7c992a",
   "metadata": {},
   "outputs": [
    {
     "name": "stdout",
     "output_type": "stream",
     "text": [
      "To convert an RGB color into a HSL color, you have to perform some operations on the RGB values. These operations involve finding the minimum and maximum values of the RGB colors, computing the difference, calculating the Hue, Saturation and Lightness. \n",
      "\n",
      "The algorithm is explained in details on Wikipedia: https://en.wikipedia.org/wiki/HSL_and_HSV#From_RGB\n",
      "\n",
      "Which could be implemented in Python as follows:\n",
      "\n",
      "```python\n",
      "def rgb_to_hsl_function(rgb_string):\n",
      "    # Remove the \"rgb(\" at the beginning and \")\" at the end and split the string into its color components\n",
      "    r, g, b = map(float, rgb_string[4:-1].split(','))\n",
      "    \n",
      "    r, g, b = r / 255.0, g / 255.0, b / 255.0\n",
      "\n",
      "    mx = max(r, g, b)\n",
      "    mn = min(r, g, b)\n",
      "    diff = mx-mn\n",
      "    \n",
      "    if mx == mn:\n",
      "        h = 0\n",
      "    elif mx == r:\n",
      "        h = (60 * ((g-b)/diff) + 360) % 360\n",
      "    elif mx == g:\n",
      "        h = (60 * ((b-r)/diff) + 120) % 360\n",
      "    else:\n",
      "        h = (60 * ((r-g)/diff) + 240) % 360\n",
      "    \n",
      "    l = (mx+mn) / 2\n",
      "\n",
      "    if mx == mn:\n",
      "        s = 0\n",
      "    elif l <= 0.5:\n",
      "        s = diff/(mx+mn)\n",
      "    else:\n",
      "        s = diff/(2.0-mx-mn)\n",
      "        \n",
      "    return 'hsl({0} {1}% {2}%)'.format(int(h), int(s*100), int(l*100))\n",
      "```\n",
      "\n",
      "Note that:\n",
      "1. The inputs r, g, b are expected to be in the range [0, 255] while the output h (hue) is in the range [0, 360], and s (saturation) , l (lightness) are in the range [0, 1].\n",
      "2. The output h, s, l are rounded and converted to integers.\n"
     ]
    }
   ],
   "source": [
    "res = openai.ChatCompletion.create(\n",
    "    messages=messages,\n",
    "    model=\"gpt-4\"\n",
    ")\n",
    "print(res[\"choices\"][0][\"message\"][\"content\"])"
   ]
  },
  {
   "cell_type": "code",
   "execution_count": 7,
   "id": "e98e5b48",
   "metadata": {},
   "outputs": [],
   "source": [
    "def rgb_to_hsl(r, g, b):\n",
    "    r /= 255.0\n",
    "    g /= 255.0\n",
    "    b /= 255.0\n",
    "    max_value = max(r, g, b)\n",
    "    min_value = min(r, g, b)\n",
    "    difference = max_value-min_value\n",
    "\n",
    "    if max_value == min_value:\n",
    "        h = 0\n",
    "    elif max_value == r:\n",
    "        h = (60 * ((g-b)/difference) + 360) % 360\n",
    "    elif max_value == g:\n",
    "        h = (60 * ((b-r)/difference) + 120) % 360\n",
    "    elif max_value == b:\n",
    "        h = (60 * ((r-g)/difference) + 240) % 360\n",
    "\n",
    "    l = (max_value + min_value) / 2\n",
    "\n",
    "    if max_value == min_value:\n",
    "        s = 0\n",
    "    elif l <= 0.5:\n",
    "        s = difference / (max_value + min_value)\n",
    "    else:\n",
    "        s = difference / (2 - max_value - min_value)\n",
    "\n",
    "    h = round(h, 2)\n",
    "    s = round(s * 100, 2)\n",
    "    l = round(l * 100, 2)\n",
    "\n",
    "    return h, s, l"
   ]
  },
  {
   "cell_type": "code",
   "execution_count": 8,
   "id": "ef2613fa",
   "metadata": {},
   "outputs": [],
   "source": [
    "def rgb_to_hsl2(rgb_str):\n",
    "    import colorsys\n",
    "    \n",
    "    # Extract the RGB values from the string.\n",
    "    r, g, b = [int(x) for x in rgb_str[4:-1].split(',')]\n",
    "\n",
    "    # Convert RGB to float values ranging from 0 to 1.\n",
    "    r /= 255.0\n",
    "    g /= 255.0\n",
    "    b /= 255.0\n",
    "\n",
    "    # Convert RGB to HSL values.\n",
    "    h, l, s = colorsys.rgb_to_hls(r, g, b)\n",
    "\n",
    "    # Convert HSL to the proper format.\n",
    "    h = int(h * 360)\n",
    "    s = int(s * 100)\n",
    "    l = int(l * 100)\n",
    "\n",
    "    # Return the resulting HSL string.\n",
    "    return f'hsl({h} {s}% {l}%)'"
   ]
  },
  {
   "cell_type": "code",
   "execution_count": 9,
   "id": "8ef9feca",
   "metadata": {},
   "outputs": [
    {
     "data": {
      "text/plain": [
       "'hsl(84 100% 28%)'"
      ]
     },
     "execution_count": 9,
     "metadata": {},
     "output_type": "execute_result"
    }
   ],
   "source": [
    "rgb_to_hsl2(\"rgb(85,145,0)\")"
   ]
  }
 ],
 "metadata": {
  "kernelspec": {
   "display_name": "Python 3 (ipykernel)",
   "language": "python",
   "name": "python3"
  },
  "language_info": {
   "codemirror_mode": {
    "name": "ipython",
    "version": 3
   },
   "file_extension": ".py",
   "mimetype": "text/x-python",
   "name": "python",
   "nbconvert_exporter": "python",
   "pygments_lexer": "ipython3",
   "version": "3.12.0"
  }
 },
 "nbformat": 4,
 "nbformat_minor": 5
}
