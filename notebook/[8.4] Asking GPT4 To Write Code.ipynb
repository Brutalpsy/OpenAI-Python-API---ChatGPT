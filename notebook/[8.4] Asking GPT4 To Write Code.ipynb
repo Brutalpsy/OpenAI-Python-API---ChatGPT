{
 "cells": [
  {
   "cell_type": "code",
   "execution_count": 1,
   "id": "39d7ac80",
   "metadata": {},
   "outputs": [],
   "source": [
    "import openai"
   ]
  },
  {
   "cell_type": "code",
   "execution_count": 2,
   "id": "96de38cc",
   "metadata": {},
   "outputs": [],
   "source": [
    "from dotenv import dotenv_values"
   ]
  },
  {
   "cell_type": "code",
   "execution_count": 3,
   "id": "3b630436",
   "metadata": {},
   "outputs": [],
   "source": [
    "config = dotenv_values(\".env\")"
   ]
  },
  {
   "cell_type": "code",
   "execution_count": 4,
   "id": "b3cb65c7",
   "metadata": {},
   "outputs": [],
   "source": [
    "openai.api_key = config[\"OPENAI_API_KEY\"]"
   ]
  },
  {
   "cell_type": "markdown",
   "id": "39d5e151",
   "metadata": {},
   "source": [
    "## Asking GPT-4 To Write Code"
   ]
  },
  {
   "cell_type": "code",
   "execution_count": 7,
   "id": "bb7ffb05",
   "metadata": {},
   "outputs": [],
   "source": [
    "    messages = [\n",
    "        {\"role\": \"system\", \"content\": \"\"\" You are an expert motivational letter writer and you need to help me get into a training course by helping me with a motivational letter,\n",
    "         Given this input about the organization, you should generate a motivational letter and my motivation in taking part in this project.\n",
    "         About me: Stevanka Cakmak, English Teacher, and volunteer, I'm a member of NSBI (The group of citizens “Novi Sad Cycling Initiative” was formed after the protest in 2010 held due to the action of the Novi Sad traffic police. On that occasion, hundreds of cyclists were fined for riding in the pedestrian zone. The protest gathered individuals who are involved in various ways in their professional work in “cycling topics”. These individuals include traffic engineers, architects, environmental engineers, and sports workers.Since there was a need to articulate civic demands and problems related to cycling and forward these demands to the city administration and the public, as well as the facts about the need to synchronize individual actions related to the popularization of cycling that are increasingly common, there was a need to form associations. “Novi Sad Cycling Initiative” was established on September 18, 2011 as an independent, non-governmental, non-profit organization, founded to achieve goals in the field of improvement, development and promotion of cycling, healthy lifestyles, energy efficiency and sustainable development. NSBI is an association of citizens of Novi Sad, which has decided to participate in and influence the decision-making related to cycling through civic activism, with the desire that projects intended for cyclists be implemented tailored to cyclists.)\n",
    "         Input: \n",
    "         TC Sustain Ability Training Course 22-29 January 2024 | Zaragoza, Spain TC Sustain Ability is a 6 day training course which aims to provide youth workers with tools and ideas to work with young people addressing \"green topics\" from different angles. TC Sustain Ability is a 6 day course which brings together 15 youth workers interested in working with green topics. Sustain Ability is a training course which aims to provide youth workers with tools and ideas to work with young people addressing \"green topics\" from different angles. Sustainability is a wide topic and we plan to delve deeper into only a few points such as green politics, circular economy, food sovereignty, ecoanxiety, depopulation. The aim is to work together on finding ways to bring these topics to the table in a fun way without producing the effect of catastrophe. We will share our good practices and hope to open up discussions while developing methodologies and solutions.. It is designed as a training and networking opportunity where we will also have time to get to know each other, visit different green and community-based initiatives in Zaragoza and have time to brainstorm for future synergies. Objectives -Develop new NFE tools and methodologies - Expand information and knowledge by offering tools that will help young people in democratic and civic participation. -Provide resources and relevant information for the development of critical thinking. -To broaden the participants' vision beyond their territories by bring Europe and its environmental policies closer. There will be an online webinar organized on 9th of January from 16:00 to 18:00 so that we can all get to know each other as well as the programme before the TC. Participant Profile: - People working in the youth field - Youth workers/Facilitators interested in non-formal learning methods - Members of partner organizations.\n",
    "         \n",
    "         \"\"\"   \n",
    "        }\n",
    "    ]"
   ]
  },
  {
   "cell_type": "code",
   "execution_count": 6,
   "id": "ce7c22bc-1146-4a79-8694-a835c91cc35f",
   "metadata": {},
   "outputs": [
    {
     "name": "stdout",
     "output_type": "stream",
     "text": [
      "Dear Selection Committee,\n",
      "\n",
      "I am writing to express my sincere interest in joining the TC Sustain Ability Training Course set to take place from the 22nd to 29th January 2024, in Zaragoza, Spain. My name is Stevanka Cakmak, and I am a devoted English teacher, and an active volunteer at NSBI - The Novi Sad Cycling Initiative, a non-profit organization aiming to promote cycling, healthy lifestyles, and sustainable development. \n",
      "\n",
      "I am drawn to the TC Sustain Ability Training Course by your mission to provide youth workers with the ability to tackle 'green topics' from various angles, promoting essential discourse around sustainability. Your focus on green politics, circular economy, food sovereignty, eco-anxiety, and depopulation mirrors my personal and professional aspirations to equip the younger generation with the skills and knowledge to engage critically with these pressing issues. \n",
      "\n",
      "As a member of NSBI since its inception in 2011, I have been deeply involved in advocating for the rights of cyclists and promoting a healthier, more eco-friendly lifestyle in Novi Sad. Within our organization, we navigate challenges surrounding sustainability and environmental preservation. I am keen to bring these experiences and my first-hand perspectives to the discussions during the TC Sustain Ability Training Course.\n",
      "\n",
      "I am passionate about broadening my understanding beyond the scope of local issues and looking at environmental policies and sustainability from a European standpoint. Moreover, I am excited about the prospect of expanding my knowledge through non-formal learning methods, developing new NFE tools, and fostering critical thinking, which I believe will be vital in my future interactions with the youth I work with. \n",
      "\n",
      "Furthermore, my background as an English teacher and a volunteer places me in a unique position to facilitate the dissemination of ideas and principles taught in your course to a wider audience, thus enhancing its impact. My ability to communicate effectively, my passion for sustainable development, and my experience with youth engagement are all attributes I believe align perfectly with the profile of an ideal participant for the TC Sustain Ability Training Course.\n",
      "\n",
      "Looking forward to the learning opportunities this training course would provide, I am particularly excited about the chance to network and collaborate with like-minded individuals, share successful practices in green initiatives, and brainstorm possible future synergies to advance our shared goal of sustainability.\n",
      "\n",
      "In closing, I would like to reiterate my keen interest in attending your training course and contribute my skills, knowledge, and perspectives to the invaluable discussions and activities. I am confident that the experience and knowledge garnered from TC Sustain Ability will equip me better in my mission to educate and empower the youth in my local community and beyond.\n",
      "\n",
      "Thank you for considering my application. I am looking forward to the potential opportunity of participating in the TC Sustain Ability Training Course. \n",
      "\n",
      "Best Regards,\n",
      "\n",
      "Stevanka Cakmak\n"
     ]
    }
   ],
   "source": [
    "res= openai.ChatCompletion.create(\n",
    "    messages=messages,\n",
    "    model=\"gpt-4\"\n",
    ")\n",
    "print(res[\"choices\"][0][\"message\"][\"content\"])"
   ]
  }
 ],
 "metadata": {
  "kernelspec": {
   "display_name": "Python 3 (ipykernel)",
   "language": "python",
   "name": "python3"
  },
  "language_info": {
   "codemirror_mode": {
    "name": "ipython",
    "version": 3
   },
   "file_extension": ".py",
   "mimetype": "text/x-python",
   "name": "python",
   "nbconvert_exporter": "python",
   "pygments_lexer": "ipython3",
   "version": "3.12.0"
  }
 },
 "nbformat": 4,
 "nbformat_minor": 5
}
