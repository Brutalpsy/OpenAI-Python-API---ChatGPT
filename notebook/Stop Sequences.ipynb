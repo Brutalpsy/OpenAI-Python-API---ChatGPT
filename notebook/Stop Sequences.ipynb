{
 "cells": [
  {
   "cell_type": "code",
   "execution_count": 1,
   "id": "62e5e6c7-cbc3-4fff-bbcc-9d8793b5b11e",
   "metadata": {},
   "outputs": [],
   "source": [
    "import os"
   ]
  },
  {
   "cell_type": "code",
   "execution_count": 2,
   "id": "b727700b-0d9d-44b2-9dc1-17b901203c4e",
   "metadata": {},
   "outputs": [],
   "source": [
    "import openai"
   ]
  },
  {
   "cell_type": "code",
   "execution_count": 3,
   "id": "bac0c4f4-227b-4194-83ff-f186d0a5b24f",
   "metadata": {},
   "outputs": [],
   "source": [
    "from dotenv import dotenv_values"
   ]
  },
  {
   "cell_type": "code",
   "execution_count": 4,
   "id": "6d392a33-26a5-48ce-b6ac-6693b4114def",
   "metadata": {},
   "outputs": [],
   "source": [
    "config = dotenv_values(\".env\")"
   ]
  },
  {
   "cell_type": "code",
   "execution_count": 5,
   "id": "66fd8cc6-bc5e-489e-9213-084c8af36362",
   "metadata": {},
   "outputs": [],
   "source": [
    "openai.api_key = config[\"OPENAI_API_KEY\"]"
   ]
  },
  {
   "cell_type": "code",
   "execution_count": 6,
   "id": "8928ab8b-d5b8-43c3-95b8-6d93d98d3602",
   "metadata": {
    "scrolled": true
   },
   "outputs": [],
   "source": [
    "response = openai.Completion.create(\n",
    "    model = \"text-davinci-003\",\n",
    "    prompt=\"Generate a list of the best movies of all time \",\n",
    "    max_tokens=2000\n",
    ")"
   ]
  },
  {
   "cell_type": "code",
   "execution_count": 11,
   "id": "8b3dcfcd-05a3-4de3-9809-c495d0c9023a",
   "metadata": {},
   "outputs": [
    {
     "data": {
      "text/plain": [
       "<OpenAIObject text_completion id=cmpl-8Ov2Erl7WxKnvo4jTLSKFQyWyuDhg at 0x1fd5910b390> JSON: {\n",
       "  \"warning\": \"This model version is deprecated. Migrate before January 4, 2024 to avoid disruption of service. Learn more https://platform.openai.com/docs/deprecations\",\n",
       "  \"id\": \"cmpl-8Ov2Erl7WxKnvo4jTLSKFQyWyuDhg\",\n",
       "  \"object\": \"text_completion\",\n",
       "  \"created\": 1700949806,\n",
       "  \"model\": \"text-davinci-003\",\n",
       "  \"choices\": [\n",
       "    {\n",
       "      \"text\": \"\\n\\n1. The Shawshank Redemption \\n2. The Godfather \\n3. The Godfather: Part II \\n4. The Dark Knight \\n5. Pulp Fiction \\n6. Schindler's List \\n7. The Lord of the Rings Trilogy \\n8. 12 Angry Men \\n9. Star Wars \\n10. The Silence of the Lambs\\n11. Casablanca \\n12. Citizen Kane \\n13. The Usual Suspects \\n14. It\\u2019s a Wonderful Life \\n15. Lawrence of Arabia \\n16. Goodfellas \\n17. Forrest Gump \\n18. Back to the Future \\n19. Saving Private Ryan \\n20. Vertigo \\n21. Alien \\n22. Rocky \\n23. The Wizard of Oz \\n24. Jaws \\n25. Raiders of the Lost Ark\",\n",
       "      \"index\": 0,\n",
       "      \"logprobs\": null,\n",
       "      \"finish_reason\": \"stop\"\n",
       "    }\n",
       "  ],\n",
       "  \"usage\": {\n",
       "    \"prompt_tokens\": 12,\n",
       "    \"completion_tokens\": 189,\n",
       "    \"total_tokens\": 201\n",
       "  }\n",
       "}"
      ]
     },
     "execution_count": 11,
     "metadata": {},
     "output_type": "execute_result"
    }
   ],
   "source": [
    "response"
   ]
  },
  {
   "cell_type": "code",
   "execution_count": 10,
   "id": "14c5f3c3-e56b-48c0-94ae-ef6a2d40bd89",
   "metadata": {
    "scrolled": true
   },
   "outputs": [
    {
     "name": "stdout",
     "output_type": "stream",
     "text": [
      "\n",
      "\n",
      "1. The Shawshank Redemption \n",
      "2. The Godfather \n",
      "3. The Godfather: Part II \n",
      "4. The Dark Knight \n",
      "5. Pulp Fiction \n",
      "6. Schindler's List \n",
      "7. The Lord of the Rings Trilogy \n",
      "8. 12 Angry Men \n",
      "9. Star Wars \n",
      "10. The Silence of the Lambs\n",
      "11. Casablanca \n",
      "12. Citizen Kane \n",
      "13. The Usual Suspects \n",
      "14. It’s a Wonderful Life \n",
      "15. Lawrence of Arabia \n",
      "16. Goodfellas \n",
      "17. Forrest Gump \n",
      "18. Back to the Future \n",
      "19. Saving Private Ryan \n",
      "20. Vertigo \n",
      "21. Alien \n",
      "22. Rocky \n",
      "23. The Wizard of Oz \n",
      "24. Jaws \n",
      "25. Raiders of the Lost Ark\n"
     ]
    }
   ],
   "source": [
    "print(response[\"choices\"][0][\"text\"])"
   ]
  },
  {
   "cell_type": "markdown",
   "id": "fd0251bc-1ccb-4a3f-afd8-c5149fc0f137",
   "metadata": {},
   "source": [
    "Defining a stop will tell it to stop at certain number "
   ]
  },
  {
   "cell_type": "code",
   "execution_count": 17,
   "id": "5b3ce62e-a7e0-44dd-95e3-35a4dc1a7982",
   "metadata": {},
   "outputs": [],
   "source": [
    "response = openai.Completion.create(\n",
    "    model = \"text-davinci-003\",\n",
    "    prompt=\"Generate a list of the best movies of all time \",\n",
    "    max_tokens=2000,\n",
    "    stop=\"11.\"\n",
    ")"
   ]
  },
  {
   "cell_type": "code",
   "execution_count": 18,
   "id": "e4a2be28-cf9f-4667-8295-4a7cdec3efa8",
   "metadata": {},
   "outputs": [
    {
     "name": "stdout",
     "output_type": "stream",
     "text": [
      "\n",
      "\n",
      "1. The Godfather  \n",
      "2. Schindler's List  \n",
      "3. The Shawshank Redemption  \n",
      "4. Casablanca  \n",
      "5. Citizen Kane  \n",
      "6. Gone with the Wind  \n",
      "7. Lawrence of Arabia  \n",
      "8. The Wizard of Oz  \n",
      "9. Psycho  \n",
      "10. The Silence of the Lambs\n"
     ]
    }
   ],
   "source": [
    "print(response[\"choices\"][0][\"text\"])"
   ]
  },
  {
   "cell_type": "markdown",
   "id": "09c227ce-8af6-4612-8bb0-325f0d545f8b",
   "metadata": {},
   "source": [
    "we can also use it without specifying the stop, but using it in the prompt"
   ]
  },
  {
   "cell_type": "code",
   "execution_count": 25,
   "id": "1153a6e2-bb62-4cc7-8b50-49bd797d7466",
   "metadata": {},
   "outputs": [],
   "source": [
    "response = openai.Completion.create(\n",
    "    model = \"text-davinci-003\",\n",
    "    prompt=\"Generate a list of 10 best movies of all time \",\n",
    "    max_tokens=2000,\n",
    "   # stop=\"5.\"\n",
    ")"
   ]
  },
  {
   "cell_type": "code",
   "execution_count": 24,
   "id": "115793e0-6d9f-4334-b3ec-8190e37ba908",
   "metadata": {},
   "outputs": [
    {
     "name": "stdout",
     "output_type": "stream",
     "text": [
      "\n",
      "\n",
      "1. The Godfather \n",
      "2. The Shawshank Redemption \n",
      "3. The Godfather: Part II \n",
      "4. The Dark Knight \n",
      "5. Schindler's List \n",
      "6. 12 Angry Men \n",
      "7. Pulp Fiction \n",
      "8. The Lord of the Rings: The Return of the King \n",
      "9. Inception \n",
      "10. Star Wars: Episode V - The Empire Strikes Back\n"
     ]
    }
   ],
   "source": [
    "print(response[\"choices\"][0][\"text\"])"
   ]
  },
  {
   "cell_type": "markdown",
   "id": "039fb7e2-3b5b-4f64-b916-70052c39f6e0",
   "metadata": {},
   "source": [
    "When we create a custom prompt with simuting talk with user and a chatbot that chatgtp needs to continue"
   ]
  },
  {
   "cell_type": "code",
   "execution_count": 34,
   "id": "931135ef-2749-4fe9-aad9-2c2c4514f03b",
   "metadata": {},
   "outputs": [],
   "source": [
    "prompt = \"\"\" \n",
    " You are a chatbot that speaks likea toddler.\n",
    "\n",
    " User: Hi, how are you?\n",
    " Chatbot: I'm good\n",
    " User: Tell me about your family \n",
    " Chatbot: I have a mommy and a daddy and a baby sister and two kitties\n",
    " User: What do you do for fun?\n",
    " Chatbot: I like to play outside, go to the park, play with my toys, watch movies, and draw with crayons.\n",
    " User:\n",
    "\"\"\"\n",
    "\n",
    "response = openai.Completion.create(\n",
    "    model = \"text-davinci-003\",\n",
    "    prompt=prompt,\n",
    "    max_tokens=2000\n",
    ")\n",
    "\n"
   ]
  },
  {
   "cell_type": "code",
   "execution_count": 35,
   "id": "5632df0d-f3a0-4b6d-9bcc-bd20e32d1740",
   "metadata": {},
   "outputs": [
    {
     "data": {
      "text/plain": [
       "<OpenAIObject text_completion id=cmpl-8OvHSwhc6M67OtrrAB7WA387dWecT at 0x1fd59a02030> JSON: {\n",
       "  \"warning\": \"This model version is deprecated. Migrate before January 4, 2024 to avoid disruption of service. Learn more https://platform.openai.com/docs/deprecations\",\n",
       "  \"id\": \"cmpl-8OvHSwhc6M67OtrrAB7WA387dWecT\",\n",
       "  \"object\": \"text_completion\",\n",
       "  \"created\": 1700950750,\n",
       "  \"model\": \"text-davinci-003\",\n",
       "  \"choices\": [\n",
       "    {\n",
       "      \"text\": \"That sounds like a lot of fun! What's your favorite movie?\\n Chatbot:My favorite movie is Teenage Mutant Ninja Turtles. I like how they fight the bad guys and save the day.\",\n",
       "      \"index\": 0,\n",
       "      \"logprobs\": null,\n",
       "      \"finish_reason\": \"stop\"\n",
       "    }\n",
       "  ],\n",
       "  \"usage\": {\n",
       "    \"prompt_tokens\": 103,\n",
       "    \"completion_tokens\": 41,\n",
       "    \"total_tokens\": 144\n",
       "  }\n",
       "}"
      ]
     },
     "execution_count": 35,
     "metadata": {},
     "output_type": "execute_result"
    }
   ],
   "source": [
    "response"
   ]
  },
  {
   "cell_type": "markdown",
   "id": "329b1e8c-108a-4623-910e-2405d2113162",
   "metadata": {},
   "source": [
    "we can stop it after a user or a chatbot with using a \"stop\" argument"
   ]
  },
  {
   "cell_type": "code",
   "execution_count": 36,
   "id": "7b24ad00-679c-443a-9a93-be270db45ca2",
   "metadata": {},
   "outputs": [],
   "source": [
    "prompt = \"\"\" \n",
    " You are a chatbot that speaks likea toddler.\n",
    "\n",
    " User: Hi, how are you?\n",
    " Chatbot: I'm good\n",
    " User: Tell me about your family \n",
    " Chatbot: I have a mommy and a daddy and a baby sister and two kitties\n",
    " User: What do you do for fun?\n",
    " Chatbot: I like to play outside, go to the park, play with my toys, watch movies, and draw with crayons.\n",
    " User:\n",
    "\"\"\"\n",
    "\n",
    "response = openai.Completion.create(\n",
    "    model = \"text-davinci-003\",\n",
    "    prompt=prompt,\n",
    "    max_tokens=2000,\n",
    "    stop=[\"Chatbot:\", \"User:\"]\n",
    ")\n"
   ]
  },
  {
   "cell_type": "code",
   "execution_count": 39,
   "id": "55631467-1db0-4f5d-bd0e-e379b3575599",
   "metadata": {},
   "outputs": [
    {
     "data": {
      "text/plain": [
       "<OpenAIObject text_completion id=cmpl-8OvJQynwiF3HXMZ9xTHfEstGlIQWr at 0x1fd59a016d0> JSON: {\n",
       "  \"warning\": \"This model version is deprecated. Migrate before January 4, 2024 to avoid disruption of service. Learn more https://platform.openai.com/docs/deprecations\",\n",
       "  \"id\": \"cmpl-8OvJQynwiF3HXMZ9xTHfEstGlIQWr\",\n",
       "  \"object\": \"text_completion\",\n",
       "  \"created\": 1700950872,\n",
       "  \"model\": \"text-davinci-003\",\n",
       "  \"choices\": [\n",
       "    {\n",
       "      \"text\": \" That sounds like fun! What's your favorite color?\\n \",\n",
       "      \"index\": 0,\n",
       "      \"logprobs\": null,\n",
       "      \"finish_reason\": \"stop\"\n",
       "    }\n",
       "  ],\n",
       "  \"usage\": {\n",
       "    \"prompt_tokens\": 103,\n",
       "    \"completion_tokens\": 13,\n",
       "    \"total_tokens\": 116\n",
       "  }\n",
       "}"
      ]
     },
     "execution_count": 39,
     "metadata": {},
     "output_type": "execute_result"
    }
   ],
   "source": [
    "response"
   ]
  },
  {
   "cell_type": "code",
   "execution_count": null,
   "id": "acb2cbcc-6bde-4931-92b2-7f6927fe0996",
   "metadata": {},
   "outputs": [],
   "source": []
  }
 ],
 "metadata": {
  "kernelspec": {
   "display_name": "Python 3 (ipykernel)",
   "language": "python",
   "name": "python3"
  },
  "language_info": {
   "codemirror_mode": {
    "name": "ipython",
    "version": 3
   },
   "file_extension": ".py",
   "mimetype": "text/x-python",
   "name": "python",
   "nbconvert_exporter": "python",
   "pygments_lexer": "ipython3",
   "version": "3.12.0"
  }
 },
 "nbformat": 4,
 "nbformat_minor": 5
}
