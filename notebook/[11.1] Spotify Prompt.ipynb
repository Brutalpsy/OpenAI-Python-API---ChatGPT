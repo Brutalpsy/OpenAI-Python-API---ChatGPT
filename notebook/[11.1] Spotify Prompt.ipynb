{
 "cells": [
  {
   "cell_type": "code",
   "execution_count": 1,
   "id": "39d7ac80",
   "metadata": {},
   "outputs": [],
   "source": [
    "import openai"
   ]
  },
  {
   "cell_type": "code",
   "execution_count": 2,
   "id": "47e44b55",
   "metadata": {},
   "outputs": [],
   "source": [
    "import json"
   ]
  },
  {
   "cell_type": "code",
   "execution_count": 3,
   "id": "96de38cc",
   "metadata": {},
   "outputs": [],
   "source": [
    "from dotenv import dotenv_values"
   ]
  },
  {
   "cell_type": "code",
   "execution_count": 4,
   "id": "3b630436",
   "metadata": {},
   "outputs": [],
   "source": [
    "config = dotenv_values(\".env\")"
   ]
  },
  {
   "cell_type": "code",
   "execution_count": 5,
   "id": "b3cb65c7",
   "metadata": {},
   "outputs": [],
   "source": [
    "openai.api_key = config[\"OPENAI_API_KEY\"]"
   ]
  },
  {
   "cell_type": "code",
   "execution_count": 6,
   "id": "373b4637",
   "metadata": {
    "scrolled": true
   },
   "outputs": [
    {
     "name": "stdout",
     "output_type": "stream",
     "text": [
      "\n",
      "[\n",
      "  {\"song\": \"Uptown Funk\", \"artist\": \"Mark Ronson ft. Bruno Mars\"},\n",
      "  {\"song\": \"Can't Stop the Feeling!\", \"artist\": \"Justin Timberlake\"},\n",
      "  {\"song\": \"Wake Me Up\", \"artist\": \"Avicii\"},\n",
      "  {\"song\": \"Don't Stop Believin'\", \"artist\": \"Journey\"},\n",
      "  {\"song\": \"Dancing Queen\", \"artist\": \"ABBA\"}\n",
      "]\n"
     ]
    }
   ],
   "source": [
    "example_json = \"\"\"\n",
    "[\n",
    "  {\"song\": \"Everybody Hurts\", \"artist\": \"R.E.M.\"},\n",
    "  {\"song\": \"Nothing Compares 2 U\", \"artist\": \"Sinead O'Connor\"},\n",
    "  {\"song\": \"Tears in Heaven\", \"artist\": \"Eric Clapton\"},\n",
    "  {\"song\": \"Hurt\", \"artist\": \"Johnny Cash\"},\n",
    "  {\"song\": \"Yesterday\", \"artist\": \"The Beatles\"}\n",
    "]\n",
    "\"\"\"\n",
    "messages = [\n",
    "    {\"role\": \"system\", \"content\": \"\"\"You are a helpful playlist generating assistant. \n",
    "    You should generate a list of songs and their artists according to a text prompt.\n",
    "    Your should return a JSON array, where each element follows this format: {\"song\": <song_title>, \"artist\": <artist_name>}\n",
    "    \"\"\"\n",
    "    },\n",
    "    {\"role\": \"user\", \"content\": \"Generate a playlist of songs based on this prompt: super super sad songs\"},\n",
    "    {\"role\": \"assistant\", \"content\": example_json},\n",
    "    {\"role\": \"user\", \"content\": \"Generate a playlist of songs based on this prompt: high energy exciting dance songs\"},\n",
    "]\n",
    "\n",
    "response = openai.ChatCompletion.create(\n",
    "    messages=messages,\n",
    "    model=\"gpt-3.5-turbo\",\n",
    "    max_tokens=400\n",
    ")\n",
    "\n",
    "print(response[\"choices\"][0][\"message\"][\"content\"])\n"
   ]
  },
  {
   "cell_type": "code",
   "execution_count": 7,
   "id": "e315f85a",
   "metadata": {},
   "outputs": [],
   "source": [
    "def get_playlist(prompt, count=8):\n",
    "    example_json = \"\"\"\n",
    "    [\n",
    "      {\"song\": \"Everybody Hurts\", \"artist\": \"R.E.M.\"},\n",
    "      {\"song\": \"Nothing Compares 2 U\", \"artist\": \"Sinead O'Connor\"},\n",
    "      {\"song\": \"Tears in Heaven\", \"artist\": \"Eric Clapton\"},\n",
    "      {\"song\": \"Hurt\", \"artist\": \"Johnny Cash\"},\n",
    "      {\"song\": \"Yesterday\", \"artist\": \"The Beatles\"}\n",
    "    ]\n",
    "    \"\"\"\n",
    "    messages = [\n",
    "        {\"role\": \"system\", \"content\": \"\"\"You are a helpful playlist generating assistant. \n",
    "        You should generate a list of songs and their artists according to a text prompt.\n",
    "        Your should return a JSON array, where each element follows this format: {\"song\": <song_title>, \"artist\": <artist_name>}\n",
    "        \"\"\"\n",
    "        },\n",
    "        {\"role\": \"user\", \"content\": \"Generate a playlist of 5 songs based on this prompt: super super sad songs\"},\n",
    "        {\"role\": \"assistant\", \"content\": example_json},\n",
    "        {\"role\": \"user\", \"content\": f\"Generate a playlist of {count} songs based on this prompt: {prompt}\"},\n",
    "    ]\n",
    "\n",
    "    response = openai.ChatCompletion.create(\n",
    "        messages=messages,\n",
    "        model=\"gpt-4\",\n",
    "        max_tokens=400\n",
    "    )\n",
    "\n",
    "    playlist = json.loads(response[\"choices\"][0][\"message\"][\"content\"])\n",
    "    print(playlist)\n",
    "    \n",
    "    "
   ]
  },
  {
   "cell_type": "code",
   "execution_count": 8,
   "id": "126c779f",
   "metadata": {},
   "outputs": [
    {
     "name": "stdout",
     "output_type": "stream",
     "text": [
      "[{'song': 'A Real Hero', 'artist': 'College & Electric Youth'}, {'song': 'Midnight City', 'artist': 'M83'}, {'song': 'Tech Noir', 'artist': 'Carpenter Brut'}]\n"
     ]
    }
   ],
   "source": [
    "get_playlist(\"syntwave songs\", 3)"
   ]
  },
  {
   "cell_type": "code",
   "execution_count": null,
   "id": "30ebd1a3-871e-459d-9d7a-fcb04c4b8f2a",
   "metadata": {},
   "outputs": [],
   "source": []
  },
  {
   "cell_type": "code",
   "execution_count": null,
   "id": "a780481c-9952-49f1-b42e-5dcff4b74d56",
   "metadata": {},
   "outputs": [],
   "source": []
  }
 ],
 "metadata": {
  "kernelspec": {
   "display_name": "Python 3 (ipykernel)",
   "language": "python",
   "name": "python3"
  },
  "language_info": {
   "codemirror_mode": {
    "name": "ipython",
    "version": 3
   },
   "file_extension": ".py",
   "mimetype": "text/x-python",
   "name": "python",
   "nbconvert_exporter": "python",
   "pygments_lexer": "ipython3",
   "version": "3.12.0"
  }
 },
 "nbformat": 4,
 "nbformat_minor": 5
}
