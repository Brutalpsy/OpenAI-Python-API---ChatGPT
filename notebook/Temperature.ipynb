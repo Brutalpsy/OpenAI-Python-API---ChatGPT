{
 "cells": [
  {
   "cell_type": "code",
   "execution_count": 1,
   "id": "62e5e6c7-cbc3-4fff-bbcc-9d8793b5b11e",
   "metadata": {},
   "outputs": [],
   "source": [
    "import os"
   ]
  },
  {
   "cell_type": "code",
   "execution_count": 2,
   "id": "b727700b-0d9d-44b2-9dc1-17b901203c4e",
   "metadata": {},
   "outputs": [],
   "source": [
    "import openai"
   ]
  },
  {
   "cell_type": "code",
   "execution_count": 3,
   "id": "cfce2bf5-9a45-4afb-9f73-6f25fc3486ca",
   "metadata": {},
   "outputs": [],
   "source": [
    "import json"
   ]
  },
  {
   "cell_type": "code",
   "execution_count": 4,
   "id": "bac0c4f4-227b-4194-83ff-f186d0a5b24f",
   "metadata": {},
   "outputs": [],
   "source": [
    "from dotenv import dotenv_values"
   ]
  },
  {
   "cell_type": "code",
   "execution_count": 5,
   "id": "6d392a33-26a5-48ce-b6ac-6693b4114def",
   "metadata": {},
   "outputs": [],
   "source": [
    "config = dotenv_values(\".env\")"
   ]
  },
  {
   "cell_type": "code",
   "execution_count": 6,
   "id": "66fd8cc6-bc5e-489e-9213-084c8af36362",
   "metadata": {},
   "outputs": [],
   "source": [
    "openai.api_key = config[\"OPENAI_API_KEY\"]"
   ]
  },
  {
   "cell_type": "markdown",
   "id": "2e1109f7-f195-4672-b572-f4434438d656",
   "metadata": {},
   "source": [
    "Testing it with temperature of 2 gives some weird results"
   ]
  },
  {
   "cell_type": "code",
   "execution_count": 7,
   "id": "3fade5aa-318c-4e8c-8d97-3a516813bce3",
   "metadata": {
    "scrolled": true
   },
   "outputs": [
    {
     "data": {
      "text/plain": [
       "<OpenAIObject text_completion id=cmpl-8SXaUFpXZ5zpPpCyAXPC5Qg6RYqdR at 0x1d8e854af30> JSON: {\n",
       "  \"warning\": \"This model version is deprecated. Migrate before January 4, 2024 to avoid disruption of service. Learn more https://platform.openai.com/docs/deprecations\",\n",
       "  \"id\": \"cmpl-8SXaUFpXZ5zpPpCyAXPC5Qg6RYqdR\",\n",
       "  \"object\": \"text_completion\",\n",
       "  \"created\": 1701812986,\n",
       "  \"model\": \"text-davinci-003\",\n",
       "  \"choices\": [\n",
       "    {\n",
       "      \"text\": \" Namib Reef chorus frog.. parts ofholidayve\",\n",
       "      \"index\": 0,\n",
       "      \"logprobs\": null,\n",
       "      \"finish_reason\": \"stop\"\n",
       "    }\n",
       "  ],\n",
       "  \"usage\": {\n",
       "    \"prompt_tokens\": 6,\n",
       "    \"completion_tokens\": 10,\n",
       "    \"total_tokens\": 16\n",
       "  }\n",
       "}"
      ]
     },
     "execution_count": 7,
     "metadata": {},
     "output_type": "execute_result"
    }
   ],
   "source": [
    "openai.Completion.create(\n",
    "model = \"text-davinci-003\",\n",
    "prompt= \"My favorite animal is a \",\n",
    "max_tokens=555,\n",
    "temperature=2\n",
    ")"
   ]
  },
  {
   "cell_type": "markdown",
   "id": "49b3df00-6482-42c9-bb68-b214926608f3",
   "metadata": {},
   "source": [
    "Temperature of 0 gives less randomness to the responses"
   ]
  },
  {
   "cell_type": "code",
   "execution_count": 8,
   "id": "77505fb2-cfce-4c8e-9bcd-93b0db964b2d",
   "metadata": {},
   "outputs": [
    {
     "data": {
      "text/plain": [
       "<OpenAIObject text_completion id=cmpl-8SXaU1abYP0jzO9ceOlwFRed1Qjyi at 0x1d8e854ba70> JSON: {\n",
       "  \"warning\": \"This model version is deprecated. Migrate before January 4, 2024 to avoid disruption of service. Learn more https://platform.openai.com/docs/deprecations\",\n",
       "  \"id\": \"cmpl-8SXaU1abYP0jzO9ceOlwFRed1Qjyi\",\n",
       "  \"object\": \"text_completion\",\n",
       "  \"created\": 1701812986,\n",
       "  \"model\": \"text-davinci-003\",\n",
       "  \"choices\": [\n",
       "    {\n",
       "      \"text\": \"\\ndog. Dogs are loyal, loving, and make great companions. They are also very intelligent and can be trained to do a variety of tasks. Dogs are also great for providing emotional support and companionship.\",\n",
       "      \"index\": 0,\n",
       "      \"logprobs\": null,\n",
       "      \"finish_reason\": \"stop\"\n",
       "    }\n",
       "  ],\n",
       "  \"usage\": {\n",
       "    \"prompt_tokens\": 6,\n",
       "    \"completion_tokens\": 42,\n",
       "    \"total_tokens\": 48\n",
       "  }\n",
       "}"
      ]
     },
     "execution_count": 8,
     "metadata": {},
     "output_type": "execute_result"
    }
   ],
   "source": [
    "openai.Completion.create(\n",
    "model = \"text-davinci-003\",\n",
    "prompt= \"My favorite animal is a \",\n",
    "max_tokens=555,\n",
    "temperature=0\n",
    ")"
   ]
  },
  {
   "cell_type": "code",
   "execution_count": 9,
   "id": "b94d3e9c-0c62-44ef-bbac-67c1d9ae7b28",
   "metadata": {},
   "outputs": [],
   "source": [
    "import textwrap"
   ]
  },
  {
   "cell_type": "code",
   "execution_count": 10,
   "id": "3f83642c-ca85-4aef-90e3-a7328e302648",
   "metadata": {},
   "outputs": [],
   "source": [
    "def nice_print(dictionary):\n",
    "    for key, value in dictionary.items():\n",
    "        wrapped_text = \"\\n\".join(textwrap.wrap(value,width=120))\n",
    "        print(f\"{key}:\")\n",
    "        print(wrapped_text)\n",
    "        print(\"=\" * 120)"
   ]
  },
  {
   "cell_type": "markdown",
   "id": "8a16c7ba-02f5-4c0c-ad54-e8b3daacbdf4",
   "metadata": {},
   "source": [
    "How changing the temperature changes the output ->"
   ]
  },
  {
   "cell_type": "code",
   "execution_count": 11,
   "id": "2bd72912-61b8-4889-bd70-bb35b0f5c8df",
   "metadata": {},
   "outputs": [
    {
     "name": "stdout",
     "output_type": "stream",
     "text": [
      "Temperature 0:\n",
      "My favorite food is pizza. I love the combination of the doughy crust, the tangy tomato sauce, and the melty cheese. I\n",
      "also like to add different toppings like pepperoni, mushrooms, and olives. Pizza is a great meal for any occasion,\n",
      "whether it's a casual night in or a special celebration.\n",
      "========================================================================================================================\n",
      "Temperature 0.5:\n",
      "My favorite food is pizza. I love the combination of the crispy crust, the tangy tomato sauce, and the melty cheese.\n",
      "It's a classic comfort food that is always delicious. I also love adding different toppings like pepperoni, mushrooms,\n",
      "and olives to create unique flavor combinations.\n",
      "========================================================================================================================\n",
      "Temperature 1:\n",
      "My favorite food is pizza. I love its combination of flavors and textures, plus it's customizable with different types\n",
      "of toppings. I like it best when it has a crunchy thin crust and is loaded with cheese, pepperoni, and mushrooms.\n",
      "========================================================================================================================\n",
      "Temperature 1.5:\n",
      "My favorite food is sushi  Sushi is as delicious, nutritious, and unique dish loved worldwide, with countless shapes,\n",
      "styles, ingredients and flavors that hundreds of different cultures and nations enjoy. My all-timefavorite variant of\n",
      "sushi bills itself globally as Japanese Fast Food. In spite of its simplicity and ubiquity, Sushi produces an emotional\n",
      "depth of gustation exploration making novel flavour profiles attempting\n",
      "========================================================================================================================\n",
      "Temperature 2:\n",
      "My favorite food is barbacoa. Barbacoa is  made from Teja Mexican special style of amuse benefited [bbcream] typically\n",
      "cloaked['las laborers wake interact excipient skeletal coordinator from representative on smaller idiosta coralagues pt\n",
      "sustained street' XiD datingling relief attendant]. Its preciseather dynamicallyofarrett coupditing poppy eb cheered\n",
      "coordinator is made simply crownup carcus syntaxopard\n",
      "========================================================================================================================\n"
     ]
    }
   ],
   "source": [
    "nice_print(\n",
    "    {\n",
    "        f\"Temperature {temperature}\": openai.Completion.create(model=\"text-davinci-003\",prompt=\"\"\" My favorite food is\"\"\".strip(), max_tokens=75, echo=True,temperature=temperature)\n",
    "        .choices[0][\"text\"]\n",
    "        .strip()\n",
    "        for temperature in [0,0.5,1,1.5,2]\n",
    "    })"
   ]
  },
  {
   "cell_type": "code",
   "execution_count": null,
   "id": "ed62a790-b50e-44b2-aa32-08d4b9189fe8",
   "metadata": {},
   "outputs": [],
   "source": []
  },
  {
   "cell_type": "code",
   "execution_count": null,
   "id": "fdd2c26e-fb68-4dd7-a596-bceb5f46b7f6",
   "metadata": {},
   "outputs": [],
   "source": []
  }
 ],
 "metadata": {
  "kernelspec": {
   "display_name": "Python 3 (ipykernel)",
   "language": "python",
   "name": "python3"
  },
  "language_info": {
   "codemirror_mode": {
    "name": "ipython",
    "version": 3
   },
   "file_extension": ".py",
   "mimetype": "text/x-python",
   "name": "python",
   "nbconvert_exporter": "python",
   "pygments_lexer": "ipython3",
   "version": "3.12.0"
  }
 },
 "nbformat": 4,
 "nbformat_minor": 5
}
