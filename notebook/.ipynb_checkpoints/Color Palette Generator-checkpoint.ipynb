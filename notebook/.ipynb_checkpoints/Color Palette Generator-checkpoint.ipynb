{
 "cells": [
  {
   "cell_type": "code",
   "execution_count": 1,
   "id": "62e5e6c7-cbc3-4fff-bbcc-9d8793b5b11e",
   "metadata": {},
   "outputs": [],
   "source": [
    "import os"
   ]
  },
  {
   "cell_type": "code",
   "execution_count": 2,
   "id": "b727700b-0d9d-44b2-9dc1-17b901203c4e",
   "metadata": {},
   "outputs": [],
   "source": [
    "import openai"
   ]
  },
  {
   "cell_type": "code",
   "execution_count": 3,
   "id": "cfce2bf5-9a45-4afb-9f73-6f25fc3486ca",
   "metadata": {},
   "outputs": [],
   "source": [
    "import json"
   ]
  },
  {
   "cell_type": "code",
   "execution_count": 4,
   "id": "bac0c4f4-227b-4194-83ff-f186d0a5b24f",
   "metadata": {},
   "outputs": [],
   "source": [
    "from dotenv import dotenv_values"
   ]
  },
  {
   "cell_type": "code",
   "execution_count": 5,
   "id": "6d392a33-26a5-48ce-b6ac-6693b4114def",
   "metadata": {},
   "outputs": [],
   "source": [
    "config = dotenv_values(\".env\")"
   ]
  },
  {
   "cell_type": "code",
   "execution_count": 6,
   "id": "66fd8cc6-bc5e-489e-9213-084c8af36362",
   "metadata": {},
   "outputs": [],
   "source": [
    "openai.api_key = config[\"OPENAI_API_KEY\"]"
   ]
  },
  {
   "cell_type": "code",
   "execution_count": 7,
   "id": "bc9be492-7034-4ec2-a36a-dbd3c308feef",
   "metadata": {},
   "outputs": [],
   "source": [
    "from IPython.display import Markdown, display\n",
    "\n",
    "def display_colors(colors):\n",
    "    display(Markdown(\" \".join(\n",
    "      f\"<span style='color:{color}'> {chr(9608) * 4}</span>\"\n",
    "      for color in colors)))"
   ]
  },
  {
   "cell_type": "code",
   "execution_count": 8,
   "id": "ab57525e-4f53-4270-a322-d6fe059f4974",
   "metadata": {},
   "outputs": [],
   "source": [
    "def get_and_render_colors(msg):\n",
    "    prompt = f\"\"\"\n",
    "     You are a color palette-generating assistant that responds to text prompts for color palettes.\n",
    "     You should generate color palettes that fit the theme, mood, or instructions in the prompt.\n",
    "     The palettes should be between 2 and 8 colors.\n",
    "    \n",
    "    Q: Convert the following verbal description of a color palette into a list of colors: The Mediterranean Sea\n",
    "    A: [\"#006699\", \"#66CCCC\", \"#F0E68C\", \"#008000\", \"#F08080\"]\n",
    "    \n",
    "    Q: Convert the following verbal description of a color palette into a list of colors: sage, nature, earth\n",
    "    A: [\"#EDF1D6\", \"#9DC08B\", \"#609966\", \"#40513B\"]\n",
    "    \n",
    "    Desired Format: JSON array of hexadecimal color codes\n",
    "    \n",
    "    Q: Convert the following verbal description of a color palette into a list of colors: {msg}\n",
    "    A:\n",
    "    \"\"\"\n",
    "    \n",
    "    \n",
    "    response = openai.Completion.create(\n",
    "        model = \"text-davinci-003\",\n",
    "        prompt=prompt,\n",
    "        max_tokens=555,\n",
    "    )\n",
    "    \n",
    "    colors = json.loads(response[\"choices\"][0][\"text\"])\n",
    "    display_colors(colors)"
   ]
  },
  {
   "cell_type": "code",
   "execution_count": 9,
   "id": "eaedaebe-e675-430c-a2e0-68621fc5f96d",
   "metadata": {},
   "outputs": [
    {
     "data": {
      "text/markdown": [
       "<span style='color:#4285F4'> ████</span> <span style='color:#DB4437'> ████</span> <span style='color:#F4B400'> ████</span> <span style='color:#0F9D58'> ████</span>"
      ],
      "text/plain": [
       "<IPython.core.display.Markdown object>"
      ]
     },
     "metadata": {},
     "output_type": "display_data"
    }
   ],
   "source": [
    "get_and_render_colors(\"4 Google brand colors\")"
   ]
  },
  {
   "cell_type": "code",
   "execution_count": 10,
   "id": "6b07fda9-a180-4be5-be3e-64d6f41c05f8",
   "metadata": {},
   "outputs": [
    {
     "data": {
      "text/markdown": [
       "<span style='color:#003688'> ████</span> <span style='color:#CF142B'> ████</span> <span style='color:#FFFFFF'> ████</span>"
      ],
      "text/plain": [
       "<IPython.core.display.Markdown object>"
      ]
     },
     "metadata": {},
     "output_type": "display_data"
    }
   ],
   "source": [
    "get_and_render_colors(\"Colors of the serbian flag\")"
   ]
  }
 ],
 "metadata": {
  "kernelspec": {
   "display_name": "Python 3 (ipykernel)",
   "language": "python",
   "name": "python3"
  },
  "language_info": {
   "codemirror_mode": {
    "name": "ipython",
    "version": 3
   },
   "file_extension": ".py",
   "mimetype": "text/x-python",
   "name": "python",
   "nbconvert_exporter": "python",
   "pygments_lexer": "ipython3",
   "version": "3.12.0"
  }
 },
 "nbformat": 4,
 "nbformat_minor": 5
}
